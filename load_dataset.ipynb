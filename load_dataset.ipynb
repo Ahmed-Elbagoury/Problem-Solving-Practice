{
  "nbformat": 4,
  "nbformat_minor": 0,
  "metadata": {
    "colab": {
      "provenance": [],
      "authorship_tag": "ABX9TyNoe+uNNefNzukmnmlIMumM",
      "include_colab_link": true
    },
    "kernelspec": {
      "name": "python3",
      "display_name": "Python 3"
    },
    "language_info": {
      "name": "python"
    }
  },
  "cells": [
    {
      "cell_type": "markdown",
      "metadata": {
        "id": "view-in-github",
        "colab_type": "text"
      },
      "source": [
        "<a href=\"https://colab.research.google.com/github/Ahmed-Elbagoury/Problem-Solving-Practice/blob/master/load_dataset.ipynb\" target=\"_parent\"><img src=\"https://colab.research.google.com/assets/colab-badge.svg\" alt=\"Open In Colab\"/></a>"
      ]
    },
    {
      "cell_type": "markdown",
      "source": [
        "This is based on https://github.com/rasbt/LLMs-from-scratch/tree/main"
      ],
      "metadata": {
        "id": "CUQgBRKWIYCJ"
      }
    },
    {
      "cell_type": "code",
      "execution_count": 33,
      "metadata": {
        "id": "CadizttDpLk5"
      },
      "outputs": [],
      "source": [
        "from torch.utils.data import Dataset, DataLoader\n",
        "import torch"
      ]
    },
    {
      "cell_type": "code",
      "source": [
        "!pip install tiktoken"
      ],
      "metadata": {
        "colab": {
          "base_uri": "https://localhost:8080/"
        },
        "id": "YQHibp7PwPee",
        "outputId": "c74fcd66-ee58-4f26-a8d4-1bc52bf7f2c6"
      },
      "execution_count": 35,
      "outputs": [
        {
          "output_type": "stream",
          "name": "stdout",
          "text": [
            "Collecting tiktoken\n",
            "  Downloading tiktoken-0.9.0-cp311-cp311-manylinux_2_17_x86_64.manylinux2014_x86_64.whl.metadata (6.7 kB)\n",
            "Requirement already satisfied: regex>=2022.1.18 in /usr/local/lib/python3.11/dist-packages (from tiktoken) (2024.11.6)\n",
            "Requirement already satisfied: requests>=2.26.0 in /usr/local/lib/python3.11/dist-packages (from tiktoken) (2.32.3)\n",
            "Requirement already satisfied: charset-normalizer<4,>=2 in /usr/local/lib/python3.11/dist-packages (from requests>=2.26.0->tiktoken) (3.4.1)\n",
            "Requirement already satisfied: idna<4,>=2.5 in /usr/local/lib/python3.11/dist-packages (from requests>=2.26.0->tiktoken) (3.10)\n",
            "Requirement already satisfied: urllib3<3,>=1.21.1 in /usr/local/lib/python3.11/dist-packages (from requests>=2.26.0->tiktoken) (2.3.0)\n",
            "Requirement already satisfied: certifi>=2017.4.17 in /usr/local/lib/python3.11/dist-packages (from requests>=2.26.0->tiktoken) (2025.1.31)\n",
            "Downloading tiktoken-0.9.0-cp311-cp311-manylinux_2_17_x86_64.manylinux2014_x86_64.whl (1.2 MB)\n",
            "\u001b[2K   \u001b[90m━━━━━━━━━━━━━━━━━━━━━━━━━━━━━━━━━━━━━━━━\u001b[0m \u001b[32m1.2/1.2 MB\u001b[0m \u001b[31m13.6 MB/s\u001b[0m eta \u001b[36m0:00:00\u001b[0m\n",
            "\u001b[?25hInstalling collected packages: tiktoken\n",
            "Successfully installed tiktoken-0.9.0\n"
          ]
        }
      ]
    },
    {
      "cell_type": "code",
      "source": [
        "import tiktoken"
      ],
      "metadata": {
        "id": "jlVmpZmEwUul"
      },
      "execution_count": 36,
      "outputs": []
    },
    {
      "cell_type": "code",
      "source": [
        "class MyDataSet(Dataset):\n",
        "\n",
        "    def __init__(self, txt, tokenizer, max_len, stride):\n",
        "        self.input_ids = []\n",
        "        self.target_ids = []\n",
        "        token_ids = tokenizer.encode(txt, allowed_special={\"<|endoftext|>\"})\n",
        "        for i in range (0, len(token_ids)-max_len, stride):\n",
        "            input_tokens = token_ids[i: i + max_len]\n",
        "            output_tokens = token_ids[i+ 1: i+max_len + 1]\n",
        "            self.input_ids.append(torch.tensor(input_tokens))\n",
        "            self.target_ids.append(torch.tensor(output_tokens))\n",
        "\n",
        "    def __len__(self):\n",
        "        return len(self.input_ids)\n",
        "    def __getitem__(self, idx):\n",
        "        return {\"input\": self.input_ids[idx], \"target\": self.target_ids[idx]}"
      ],
      "metadata": {
        "id": "YDSyoSDNpPjG"
      },
      "execution_count": 145,
      "outputs": []
    },
    {
      "cell_type": "code",
      "source": [
        "tokenizer = tiktoken.get_encoding(\"gpt2\")\n",
        "txt = \"\"\"This is a test text. This is mostly for testing the tokenization only.\n",
        "Later text will test training and inferecne\n",
        "\"\"\"\n",
        "dataset = MyDataSet(txt, tokenizer, 3, 2)"
      ],
      "metadata": {
        "id": "jEphIS-swDis"
      },
      "execution_count": 146,
      "outputs": []
    },
    {
      "cell_type": "code",
      "source": [
        "for ip, op in zip(dataset.input_ids, dataset.target_ids):\n",
        "    print(ip.size(), op.size())\n",
        "    print(f\"'{tokenizer.decode([elem.item() for elem in ip])}'\",\n",
        "          \"-->\",\n",
        "          f\"'{tokenizer.decode([elem.item() for elem in op])}'\")\n",
        "    print(\"-------\")"
      ],
      "metadata": {
        "colab": {
          "base_uri": "https://localhost:8080/"
        },
        "collapsed": true,
        "id": "hPcYNlhXw0Dz",
        "outputId": "dc18ba41-d074-4d9f-b8ca-ab7f46f164df"
      },
      "execution_count": 147,
      "outputs": [
        {
          "output_type": "stream",
          "name": "stdout",
          "text": [
            "torch.Size([3]) torch.Size([3])\n",
            "'This is a' --> ' is a test'\n",
            "-------\n",
            "torch.Size([3]) torch.Size([3])\n",
            "' a test text' --> ' test text.'\n",
            "-------\n",
            "torch.Size([3]) torch.Size([3])\n",
            "' text. This' --> '. This is'\n",
            "-------\n",
            "torch.Size([3]) torch.Size([3])\n",
            "' This is mostly' --> ' is mostly for'\n",
            "-------\n",
            "torch.Size([3]) torch.Size([3])\n",
            "' mostly for testing' --> ' for testing the'\n",
            "-------\n",
            "torch.Size([3]) torch.Size([3])\n",
            "' testing the token' --> ' the tokenization'\n",
            "-------\n",
            "torch.Size([3]) torch.Size([3])\n",
            "' tokenization only' --> 'ization only.'\n",
            "-------\n",
            "torch.Size([3]) torch.Size([3])\n",
            "' only.\n",
            "' --> '.\n",
            "Later'\n",
            "-------\n",
            "torch.Size([3]) torch.Size([3])\n",
            "'\n",
            "Later text' --> 'Later text will'\n",
            "-------\n",
            "torch.Size([3]) torch.Size([3])\n",
            "' text will test' --> ' will test training'\n",
            "-------\n",
            "torch.Size([3]) torch.Size([3])\n",
            "' test training and' --> ' training and inf'\n",
            "-------\n",
            "torch.Size([3]) torch.Size([3])\n",
            "' and infere' --> ' inferec'\n",
            "-------\n",
            "torch.Size([3]) torch.Size([3])\n",
            "'erecne' --> 'cne\n",
            "'\n",
            "-------\n"
          ]
        }
      ]
    },
    {
      "cell_type": "code",
      "source": [
        "def create_dataloader(txt, max_len=256, stride=128, batch_size=4, shuffle=True,\n",
        "                      drop_last=True, num_workers=0):\n",
        "    tokenizer = tiktoken.get_encoding(\"gpt2\")\n",
        "    dataset = MyDataSet(txt, tokenizer, max_len, stride)\n",
        "\n",
        "    return DataLoader(dataset=dataset, batch_size=batch_size,\n",
        "                            shuffle=shuffle,\n",
        "                            drop_last= drop_last,\n",
        "                            num_workers= num_workers)"
      ],
      "metadata": {
        "id": "Ta0Aw334ADlN"
      },
      "execution_count": 148,
      "outputs": []
    },
    {
      "cell_type": "code",
      "source": [
        "import os\n",
        "import urllib.request\n",
        "\n",
        "file_path = \"the-verdict.txt\"\n",
        "if not os.path.exists(file_path):\n",
        "    url = (\"https://raw.githubusercontent.com/rasbt/\"\n",
        "           \"LLMs-from-scratch/main/ch02/01_main-chapter-code/\"\n",
        "           \"the-verdict.txt\")\n",
        "    urllib.request.urlretrieve(url, file_path)"
      ],
      "metadata": {
        "id": "1pidIsYqACxZ"
      },
      "execution_count": 154,
      "outputs": []
    },
    {
      "cell_type": "code",
      "source": [
        "with open(file_path, \"r\") as f:\n",
        "    txt = f.read()"
      ],
      "metadata": {
        "id": "nDJ3i7bvFG9V"
      },
      "execution_count": 155,
      "outputs": []
    },
    {
      "cell_type": "code",
      "source": [
        "# raw_text, batch_size=1, max_length=4, stride=1, shuffle=Fals\n",
        "loader = create_dataloader(txt=txt, max_len=4, stride=1, batch_size=1,\n",
        "                           shuffle=False)"
      ],
      "metadata": {
        "id": "SLf3clT_FFlP"
      },
      "execution_count": 156,
      "outputs": []
    },
    {
      "cell_type": "code",
      "source": [
        "data_iter = iter(loader)\n",
        "first_batch = next(data_iter)\n",
        "print(first_batch[\"input\"])\n",
        "print(first_batch[\"target\"])"
      ],
      "metadata": {
        "colab": {
          "base_uri": "https://localhost:8080/"
        },
        "id": "jeqFaPtQHLdH",
        "outputId": "0cde4606-0eae-4601-d133-4c959ee71b45"
      },
      "execution_count": 157,
      "outputs": [
        {
          "output_type": "stream",
          "name": "stdout",
          "text": [
            "tensor([[  40,  367, 2885, 1464]])\n",
            "tensor([[ 367, 2885, 1464, 1807]])\n"
          ]
        }
      ]
    },
    {
      "cell_type": "code",
      "source": [
        "second_batch = next(data_iter)\n",
        "print(second_batch[\"input\"])\n",
        "print(second_batch[\"target\"])"
      ],
      "metadata": {
        "colab": {
          "base_uri": "https://localhost:8080/"
        },
        "id": "kA4FQMQ9GEke",
        "outputId": "2bf3fc56-8860-463c-c1de-314040535502"
      },
      "execution_count": 158,
      "outputs": [
        {
          "output_type": "stream",
          "name": "stdout",
          "text": [
            "tensor([[ 367, 2885, 1464, 1807]])\n",
            "tensor([[2885, 1464, 1807, 3619]])\n"
          ]
        }
      ]
    }
  ]
}